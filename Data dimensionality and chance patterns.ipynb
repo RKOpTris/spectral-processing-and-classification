{
 "cells": [
  {
   "cell_type": "markdown",
   "metadata": {},
   "source": [
    "<h1>Data dimensionality and chance patterns that may return as significant</h1>"
   ]
  },
  {
   "cell_type": "markdown",
   "metadata": {},
   "source": [
    "In this notebook we will explore the potential for patterns to arise by chance in data as we increase the number of features in a dataset. We create what is essentially a null model by randomly generating a dataset and performing some significance tests (a <i>t</i>-test in this case) on the features to assess what chance can achieve in terms of significant differences between randomly assigned classes.\n",
    "\n",
    "We find that the proportion of significant features over many tests tends towards the alpha level of significance we are using; i.e., ~5% (1/20 or 0.05) of features will randomly contain a \"signal\" at the typical alpha level of significance ($p$ = 0.05), or, more elegantly, the proportion of significant features ($P$) will approximately equal the alpha level of significance ($\\alpha$):\n",
    "\n",
    "$$P \\approx \\alpha$$\n",
    "\n",
    "The number of likely significant features ($F_{s}$) of the total number of features ($F$) is approximately:\n",
    "\n",
    "$$F_{s} \\approx F \\cdot \\alpha$$\n",
    "\n",
    "If we have a dataset containing 20 features, 1 would be expected to test as significant by chance with an $\\alpha$ of 0.05: \n",
    "\n",
    "$$F_{s} \\approx F \\cdot \\alpha \\approx 20 \\cdot 0.05 \\approx 1$$\n",
    "\n",
    "However, spectral datasets typically contain hundreds or thousands of features. For instance, a typical fingerprint region of an FTIR dataset contains ~400 features. Using an alpha level of significance of approximately 0.05, we might expect that:\n",
    "\n",
    "$$F_{s} \\approx F \\cdot \\alpha \\approx 400 \\cdot 0.05 \\approx 20$$\n",
    "\n",
    "We would expect around 20 features to test as significant by chance in a dataset generated at random.\n",
    "\n",
    "Obviously we are not dealing with random datasets and may not be using algorithms that use stistical tests, but given this potential, it is important to consider whether machine learning algorithms are finding genuine, useful patterns in our data. As we increase the dimensionality of our data (the number of features), we increase the potential for algorithms to find chance patterns. Ultimately we may be fooled into thinking that we have found genuine, predictable differences between our samples.\n",
    "\n",
    "This is demostrated in the following code."
   ]
  },
  {
   "cell_type": "markdown",
   "metadata": {},
   "source": [
    "<h4>Loading libraries, assigning functions and setting plotting options</h4>\n",
    "call.do() is simply a switch of arguments from do.call() that allows it to be used easily in piped code"
   ]
  },
  {
   "cell_type": "code",
   "execution_count": 1,
   "metadata": {},
   "outputs": [
    {
     "name": "stderr",
     "output_type": "stream",
     "text": [
      "Warning message:\n",
      "\"package 'dplyr' was built under R version 3.6.3\"\n",
      "Attaching package: 'dplyr'\n",
      "\n",
      "The following objects are masked from 'package:stats':\n",
      "\n",
      "    filter, lag\n",
      "\n",
      "The following objects are masked from 'package:base':\n",
      "\n",
      "    intersect, setdiff, setequal, union\n",
      "\n",
      "Warning message:\n",
      "\"package 'ggplot2' was built under R version 3.6.3\"Warning message:\n",
      "\"package 'tidyr' was built under R version 3.6.3\""
     ]
    }
   ],
   "source": [
    "library(parallel)\n",
    "library(dplyr)\n",
    "library(ggplot2)\n",
    "library(tidyr)\n",
    "call.do <- function(args, what){do.call(what, args)}\n",
    "options(repr.plot.width = 5, repr.plot.height = 5, repr.plot.res = 100)"
   ]
  },
  {
   "cell_type": "markdown",
   "metadata": {},
   "source": [
    "<h4>Creating a set of data randomly drawn from a uniform distribution. It has 8192 observations and 1024 features. (Many features are typical of spectra.)</h4>"
   ]
  },
  {
   "cell_type": "code",
   "execution_count": 2,
   "metadata": {},
   "outputs": [
    {
     "data": {
      "text/html": [
       "<ol class=list-inline>\n",
       "\t<li>8192</li>\n",
       "\t<li>1024</li>\n",
       "</ol>\n"
      ],
      "text/latex": [
       "\\begin{enumerate*}\n",
       "\\item 8192\n",
       "\\item 1024\n",
       "\\end{enumerate*}\n"
      ],
      "text/markdown": [
       "1. 8192\n",
       "2. 1024\n",
       "\n",
       "\n"
      ],
      "text/plain": [
       "[1] 8192 1024"
      ]
     },
     "metadata": {},
     "output_type": "display_data"
    }
   ],
   "source": [
    "nObservation <- 2^13\n",
    "nFeature <- 2^10\n",
    "set.seed(1138)\n",
    "randomData <- lapply(1:nObservation, function(i){runif(nFeature)}) %>% call.do(rbind)\n",
    "dim(randomData)"
   ]
  },
  {
   "cell_type": "markdown",
   "metadata": {},
   "source": [
    "<h4>Randomly assigning observations to one of two groups, a and b, and adding that to the randomly generated data</h4>"
   ]
  },
  {
   "cell_type": "code",
   "execution_count": 3,
   "metadata": {},
   "outputs": [],
   "source": [
    "nGroup <- 2 # this script will only run with two groups as we as using a t-test as a test of significance\n",
    "classSize <- nObservation / nGroup\n",
    "randomGroup <- rep(letters[1:nGroup], each = classSize)\n",
    "randomData <- data.frame(randomData) %>% cbind(data.frame(group = randomGroup))"
   ]
  },
  {
   "cell_type": "markdown",
   "metadata": {},
   "source": [
    "<h4>Establishing a sequence of numbers to iterate. It is base 2 where each number is double the previous one in the sequence, so in a small sequence we can explore quite different sizes of datasets. We will use it to iterate over various numbers of randomly selected observations and features</h4>"
   ]
  },
  {
   "cell_type": "code",
   "execution_count": 4,
   "metadata": {},
   "outputs": [
    {
     "data": {
      "text/html": [
       "<ol class=list-inline>\n",
       "\t<li>4</li>\n",
       "\t<li>8</li>\n",
       "\t<li>16</li>\n",
       "\t<li>32</li>\n",
       "\t<li>64</li>\n",
       "\t<li>128</li>\n",
       "\t<li>256</li>\n",
       "\t<li>512</li>\n",
       "\t<li>1024</li>\n",
       "</ol>\n"
      ],
      "text/latex": [
       "\\begin{enumerate*}\n",
       "\\item 4\n",
       "\\item 8\n",
       "\\item 16\n",
       "\\item 32\n",
       "\\item 64\n",
       "\\item 128\n",
       "\\item 256\n",
       "\\item 512\n",
       "\\item 1024\n",
       "\\end{enumerate*}\n"
      ],
      "text/markdown": [
       "1. 4\n",
       "2. 8\n",
       "3. 16\n",
       "4. 32\n",
       "5. 64\n",
       "6. 128\n",
       "7. 256\n",
       "8. 512\n",
       "9. 1024\n",
       "\n",
       "\n"
      ],
      "text/plain": [
       "[1]    4    8   16   32   64  128  256  512 1024"
      ]
     },
     "metadata": {},
     "output_type": "display_data"
    },
    {
     "data": {
      "image/png": "[encoded data removed]",
      "text/plain": [
       "plot without title"
      ]
     },
     "metadata": {},
     "output_type": "display_data"
    }
   ],
   "source": [
    "(base2_seq <- 2^c(2:10))\n",
    "plot(base2_seq, type = \"b\", las = 1)"
   ]
  },
  {
   "cell_type": "markdown",
   "metadata": {},
   "source": [
    "<h4>Defining a couple of functions to randomly subset data in terms of observations and features. This will happen many times to demonstrate that the tendency of a significant result is a function of the alpha level of significance of the statistical test.</h4>"
   ]
  },
  {
   "cell_type": "code",
   "execution_count": 5,
   "metadata": {},
   "outputs": [],
   "source": [
    "subsampleObs <- function(n){\n",
    "    randomData %>% \n",
    "    split(randomData$group) %>% \n",
    "    lapply(function(x){x[sample(nrow(x), n), ]})\n",
    "}\n",
    "\n",
    "subsampleData <- function(nObs, nFeatures){\n",
    "    subSample <- subsampleObs(nObs) %>% call.do(rbind)\n",
    "    groups <- subSample$group\n",
    "    subSample <- subSample %>% \n",
    "    group_by(group) %>% \n",
    "    sample(nFeatures) %>% \n",
    "    ungroup()\n",
    "    subSample$group <- groups\n",
    "    return(subSample)\n",
    "}"
   ]
  },
  {
   "cell_type": "code",
   "execution_count": 6,
   "metadata": {},
   "outputs": [
    {
     "data": {
      "text/html": [
       "<table>\n",
       "<thead><tr><th scope=col>X724</th><th scope=col>X964</th><th scope=col>X680</th><th scope=col>X672</th><th scope=col>group</th></tr></thead>\n",
       "<tbody>\n",
       "\t<tr><td>0.91325417</td><td>0.91356999</td><td>0.24879003</td><td>0.7744510 </td><td>a         </td></tr>\n",
       "\t<tr><td>0.31943702</td><td>0.80814421</td><td>0.87576071</td><td>0.0266545 </td><td>a         </td></tr>\n",
       "\t<tr><td>0.83799467</td><td>0.11916436</td><td>0.92487120</td><td>0.8930405 </td><td>a         </td></tr>\n",
       "\t<tr><td>0.50749201</td><td>0.30984967</td><td>0.80390678</td><td>0.9311738 </td><td>a         </td></tr>\n",
       "\t<tr><td>0.83215577</td><td>0.05320815</td><td>0.26137463</td><td>0.3662314 </td><td>a         </td></tr>\n",
       "\t<tr><td>0.04496013</td><td>0.62565044</td><td>0.59033348</td><td>0.5541183 </td><td>a         </td></tr>\n",
       "\t<tr><td>0.78673155</td><td>0.69675860</td><td>0.04321533</td><td>0.2788866 </td><td>a         </td></tr>\n",
       "\t<tr><td>0.33946182</td><td>0.48922367</td><td>0.22549794</td><td>0.2260483 </td><td>a         </td></tr>\n",
       "\t<tr><td>0.70547272</td><td>0.02456188</td><td>0.10982789</td><td>0.5146272 </td><td>b         </td></tr>\n",
       "\t<tr><td>0.47156608</td><td>0.56404949</td><td>0.89785499</td><td>0.9215434 </td><td>b         </td></tr>\n",
       "\t<tr><td>0.13870818</td><td>0.41419604</td><td>0.21875003</td><td>0.3168169 </td><td>b         </td></tr>\n",
       "\t<tr><td>0.65864660</td><td>0.43511121</td><td>0.38920819</td><td>0.6209096 </td><td>b         </td></tr>\n",
       "\t<tr><td>0.83594948</td><td>0.23494593</td><td>0.43840957</td><td>0.4357076 </td><td>b         </td></tr>\n",
       "\t<tr><td>0.51862051</td><td>0.08643279</td><td>0.66030008</td><td>0.2444577 </td><td>b         </td></tr>\n",
       "\t<tr><td>0.30556725</td><td>0.54003579</td><td>0.20947761</td><td>0.9351345 </td><td>b         </td></tr>\n",
       "\t<tr><td>0.95120256</td><td>0.41245939</td><td>0.14003876</td><td>0.3687491 </td><td>b         </td></tr>\n",
       "</tbody>\n",
       "</table>\n"
      ],
      "text/latex": [
       "\\begin{tabular}{r|lllll}\n",
       " X724 & X964 & X680 & X672 & group\\\\\n",
       "\\hline\n",
       "\t 0.91325417 & 0.91356999 & 0.24879003 & 0.7744510  & a         \\\\\n",
       "\t 0.31943702 & 0.80814421 & 0.87576071 & 0.0266545  & a         \\\\\n",
       "\t 0.83799467 & 0.11916436 & 0.92487120 & 0.8930405  & a         \\\\\n",
       "\t 0.50749201 & 0.30984967 & 0.80390678 & 0.9311738  & a         \\\\\n",
       "\t 0.83215577 & 0.05320815 & 0.26137463 & 0.3662314  & a         \\\\\n",
       "\t 0.04496013 & 0.62565044 & 0.59033348 & 0.5541183  & a         \\\\\n",
       "\t 0.78673155 & 0.69675860 & 0.04321533 & 0.2788866  & a         \\\\\n",
       "\t 0.33946182 & 0.48922367 & 0.22549794 & 0.2260483  & a         \\\\\n",
       "\t 0.70547272 & 0.02456188 & 0.10982789 & 0.5146272  & b         \\\\\n",
       "\t 0.47156608 & 0.56404949 & 0.89785499 & 0.9215434  & b         \\\\\n",
       "\t 0.13870818 & 0.41419604 & 0.21875003 & 0.3168169  & b         \\\\\n",
       "\t 0.65864660 & 0.43511121 & 0.38920819 & 0.6209096  & b         \\\\\n",
       "\t 0.83594948 & 0.23494593 & 0.43840957 & 0.4357076  & b         \\\\\n",
       "\t 0.51862051 & 0.08643279 & 0.66030008 & 0.2444577  & b         \\\\\n",
       "\t 0.30556725 & 0.54003579 & 0.20947761 & 0.9351345  & b         \\\\\n",
       "\t 0.95120256 & 0.41245939 & 0.14003876 & 0.3687491  & b         \\\\\n",
       "\\end{tabular}\n"
      ],
      "text/markdown": [
       "\n",
       "| X724 | X964 | X680 | X672 | group |\n",
       "|---|---|---|---|---|\n",
       "| 0.91325417 | 0.91356999 | 0.24879003 | 0.7744510  | a          |\n",
       "| 0.31943702 | 0.80814421 | 0.87576071 | 0.0266545  | a          |\n",
       "| 0.83799467 | 0.11916436 | 0.92487120 | 0.8930405  | a          |\n",
       "| 0.50749201 | 0.30984967 | 0.80390678 | 0.9311738  | a          |\n",
       "| 0.83215577 | 0.05320815 | 0.26137463 | 0.3662314  | a          |\n",
       "| 0.04496013 | 0.62565044 | 0.59033348 | 0.5541183  | a          |\n",
       "| 0.78673155 | 0.69675860 | 0.04321533 | 0.2788866  | a          |\n",
       "| 0.33946182 | 0.48922367 | 0.22549794 | 0.2260483  | a          |\n",
       "| 0.70547272 | 0.02456188 | 0.10982789 | 0.5146272  | b          |\n",
       "| 0.47156608 | 0.56404949 | 0.89785499 | 0.9215434  | b          |\n",
       "| 0.13870818 | 0.41419604 | 0.21875003 | 0.3168169  | b          |\n",
       "| 0.65864660 | 0.43511121 | 0.38920819 | 0.6209096  | b          |\n",
       "| 0.83594948 | 0.23494593 | 0.43840957 | 0.4357076  | b          |\n",
       "| 0.51862051 | 0.08643279 | 0.66030008 | 0.2444577  | b          |\n",
       "| 0.30556725 | 0.54003579 | 0.20947761 | 0.9351345  | b          |\n",
       "| 0.95120256 | 0.41245939 | 0.14003876 | 0.3687491  | b          |\n",
       "\n"
      ],
      "text/plain": [
       "   X724       X964       X680       X672      group\n",
       "1  0.91325417 0.91356999 0.24879003 0.7744510 a    \n",
       "2  0.31943702 0.80814421 0.87576071 0.0266545 a    \n",
       "3  0.83799467 0.11916436 0.92487120 0.8930405 a    \n",
       "4  0.50749201 0.30984967 0.80390678 0.9311738 a    \n",
       "5  0.83215577 0.05320815 0.26137463 0.3662314 a    \n",
       "6  0.04496013 0.62565044 0.59033348 0.5541183 a    \n",
       "7  0.78673155 0.69675860 0.04321533 0.2788866 a    \n",
       "8  0.33946182 0.48922367 0.22549794 0.2260483 a    \n",
       "9  0.70547272 0.02456188 0.10982789 0.5146272 b    \n",
       "10 0.47156608 0.56404949 0.89785499 0.9215434 b    \n",
       "11 0.13870818 0.41419604 0.21875003 0.3168169 b    \n",
       "12 0.65864660 0.43511121 0.38920819 0.6209096 b    \n",
       "13 0.83594948 0.23494593 0.43840957 0.4357076 b    \n",
       "14 0.51862051 0.08643279 0.66030008 0.2444577 b    \n",
       "15 0.30556725 0.54003579 0.20947761 0.9351345 b    \n",
       "16 0.95120256 0.41245939 0.14003876 0.3687491 b    "
      ]
     },
     "metadata": {},
     "output_type": "display_data"
    },
    {
     "data": {
      "image/png": "[encoded data removed]",
      "text/plain": [
       "plot without title"
      ]
     },
     "metadata": {},
     "output_type": "display_data"
    }
   ],
   "source": [
    "# This is an example of the output it produces given its input parameters: \n",
    "# 8 randomly selected observations of each class and 4 randomly selected features\n",
    "# For each iteration, this subsampling will be performed 100 times and a t-test applied\n",
    "(exampleData <- subsampleData(nObs = 8, nFeatures = 4))\n",
    "exampleData %>% \n",
    "    gather(\"pseudoWavenumber\", \"pseudoAbsorbance\", -group) %>%\n",
    "    ggplot(aes(group, pseudoAbsorbance)) +\n",
    "    scale_y_continuous(limits = c(0, 1)) +\n",
    "    geom_boxplot(outlier.shape = NA) +\n",
    "    geom_jitter(size = 3, width = 0.1) +\n",
    "    facet_wrap(~pseudoWavenumber, nrow = 1)"
   ]
  },
  {
   "cell_type": "markdown",
   "metadata": {},
   "source": [
    "<h4>Generating a table of values to iterate over (# of observations, # of features and p-value we are taking as significant and we will store the percentage of significantly different features in the column</h4>"
   ]
  },
  {
   "cell_type": "code",
   "execution_count": 7,
   "metadata": {},
   "outputs": [
    {
     "name": "stdout",
     "output_type": "stream",
     "text": [
      "[1] \"thisManyObservations\"\n"
     ]
    },
    {
     "data": {
      "text/html": [
       "<ol class=list-inline>\n",
       "\t<li>8</li>\n",
       "\t<li>64</li>\n",
       "</ol>\n"
      ],
      "text/latex": [
       "\\begin{enumerate*}\n",
       "\\item 8\n",
       "\\item 64\n",
       "\\end{enumerate*}\n"
      ],
      "text/markdown": [
       "1. 8\n",
       "2. 64\n",
       "\n",
       "\n"
      ],
      "text/plain": [
       "[1]  8 64"
      ]
     },
     "metadata": {},
     "output_type": "display_data"
    },
    {
     "name": "stdout",
     "output_type": "stream",
     "text": [
      "[1] \"thisManyFeatures\"\n"
     ]
    },
    {
     "data": {
      "text/html": [
       "<ol class=list-inline>\n",
       "\t<li>4</li>\n",
       "\t<li>16</li>\n",
       "\t<li>64</li>\n",
       "\t<li>256</li>\n",
       "\t<li>1024</li>\n",
       "</ol>\n"
      ],
      "text/latex": [
       "\\begin{enumerate*}\n",
       "\\item 4\n",
       "\\item 16\n",
       "\\item 64\n",
       "\\item 256\n",
       "\\item 1024\n",
       "\\end{enumerate*}\n"
      ],
      "text/markdown": [
       "1. 4\n",
       "2. 16\n",
       "3. 64\n",
       "4. 256\n",
       "5. 1024\n",
       "\n",
       "\n"
      ],
      "text/plain": [
       "[1]    4   16   64  256 1024"
      ]
     },
     "metadata": {},
     "output_type": "display_data"
    },
    {
     "name": "stdout",
     "output_type": "stream",
     "text": [
      "[1] \"thesePValues\"\n"
     ]
    },
    {
     "data": {
      "text/html": [
       "<ol class=list-inline>\n",
       "\t<li>0.05</li>\n",
       "\t<li>0.01</li>\n",
       "</ol>\n"
      ],
      "text/latex": [
       "\\begin{enumerate*}\n",
       "\\item 0.05\n",
       "\\item 0.01\n",
       "\\end{enumerate*}\n"
      ],
      "text/markdown": [
       "1. 0.05\n",
       "2. 0.01\n",
       "\n",
       "\n"
      ],
      "text/plain": [
       "[1] 0.05 0.01"
      ]
     },
     "metadata": {},
     "output_type": "display_data"
    },
    {
     "data": {
      "text/html": [
       "<table>\n",
       "<thead><tr><th scope=col>nFeatures</th><th scope=col>nObs</th><th scope=col>nTimes</th><th scope=col>pValue</th><th scope=col>percSignificant</th></tr></thead>\n",
       "<tbody>\n",
       "\t<tr><td>   4</td><td> 8  </td><td>100 </td><td>0.05</td><td>NA  </td></tr>\n",
       "\t<tr><td>  16</td><td> 8  </td><td>100 </td><td>0.05</td><td>NA  </td></tr>\n",
       "\t<tr><td>  64</td><td> 8  </td><td>100 </td><td>0.05</td><td>NA  </td></tr>\n",
       "\t<tr><td> 256</td><td> 8  </td><td>100 </td><td>0.05</td><td>NA  </td></tr>\n",
       "\t<tr><td>1024</td><td> 8  </td><td>100 </td><td>0.05</td><td>NA  </td></tr>\n",
       "\t<tr><td>   4</td><td>64  </td><td>100 </td><td>0.05</td><td>NA  </td></tr>\n",
       "\t<tr><td>  16</td><td>64  </td><td>100 </td><td>0.05</td><td>NA  </td></tr>\n",
       "\t<tr><td>  64</td><td>64  </td><td>100 </td><td>0.05</td><td>NA  </td></tr>\n",
       "\t<tr><td> 256</td><td>64  </td><td>100 </td><td>0.05</td><td>NA  </td></tr>\n",
       "\t<tr><td>1024</td><td>64  </td><td>100 </td><td>0.05</td><td>NA  </td></tr>\n",
       "\t<tr><td>   4</td><td> 8  </td><td>100 </td><td>0.01</td><td>NA  </td></tr>\n",
       "\t<tr><td>  16</td><td> 8  </td><td>100 </td><td>0.01</td><td>NA  </td></tr>\n",
       "\t<tr><td>  64</td><td> 8  </td><td>100 </td><td>0.01</td><td>NA  </td></tr>\n",
       "\t<tr><td> 256</td><td> 8  </td><td>100 </td><td>0.01</td><td>NA  </td></tr>\n",
       "\t<tr><td>1024</td><td> 8  </td><td>100 </td><td>0.01</td><td>NA  </td></tr>\n",
       "\t<tr><td>   4</td><td>64  </td><td>100 </td><td>0.01</td><td>NA  </td></tr>\n",
       "\t<tr><td>  16</td><td>64  </td><td>100 </td><td>0.01</td><td>NA  </td></tr>\n",
       "\t<tr><td>  64</td><td>64  </td><td>100 </td><td>0.01</td><td>NA  </td></tr>\n",
       "\t<tr><td> 256</td><td>64  </td><td>100 </td><td>0.01</td><td>NA  </td></tr>\n",
       "\t<tr><td>1024</td><td>64  </td><td>100 </td><td>0.01</td><td>NA  </td></tr>\n",
       "</tbody>\n",
       "</table>\n"
      ],
      "text/latex": [
       "\\begin{tabular}{r|lllll}\n",
       " nFeatures & nObs & nTimes & pValue & percSignificant\\\\\n",
       "\\hline\n",
       "\t    4 &  8   & 100  & 0.05 & NA  \\\\\n",
       "\t   16 &  8   & 100  & 0.05 & NA  \\\\\n",
       "\t   64 &  8   & 100  & 0.05 & NA  \\\\\n",
       "\t  256 &  8   & 100  & 0.05 & NA  \\\\\n",
       "\t 1024 &  8   & 100  & 0.05 & NA  \\\\\n",
       "\t    4 & 64   & 100  & 0.05 & NA  \\\\\n",
       "\t   16 & 64   & 100  & 0.05 & NA  \\\\\n",
       "\t   64 & 64   & 100  & 0.05 & NA  \\\\\n",
       "\t  256 & 64   & 100  & 0.05 & NA  \\\\\n",
       "\t 1024 & 64   & 100  & 0.05 & NA  \\\\\n",
       "\t    4 &  8   & 100  & 0.01 & NA  \\\\\n",
       "\t   16 &  8   & 100  & 0.01 & NA  \\\\\n",
       "\t   64 &  8   & 100  & 0.01 & NA  \\\\\n",
       "\t  256 &  8   & 100  & 0.01 & NA  \\\\\n",
       "\t 1024 &  8   & 100  & 0.01 & NA  \\\\\n",
       "\t    4 & 64   & 100  & 0.01 & NA  \\\\\n",
       "\t   16 & 64   & 100  & 0.01 & NA  \\\\\n",
       "\t   64 & 64   & 100  & 0.01 & NA  \\\\\n",
       "\t  256 & 64   & 100  & 0.01 & NA  \\\\\n",
       "\t 1024 & 64   & 100  & 0.01 & NA  \\\\\n",
       "\\end{tabular}\n"
      ],
      "text/markdown": [
       "\n",
       "| nFeatures | nObs | nTimes | pValue | percSignificant |\n",
       "|---|---|---|---|---|\n",
       "|    4 |  8   | 100  | 0.05 | NA   |\n",
       "|   16 |  8   | 100  | 0.05 | NA   |\n",
       "|   64 |  8   | 100  | 0.05 | NA   |\n",
       "|  256 |  8   | 100  | 0.05 | NA   |\n",
       "| 1024 |  8   | 100  | 0.05 | NA   |\n",
       "|    4 | 64   | 100  | 0.05 | NA   |\n",
       "|   16 | 64   | 100  | 0.05 | NA   |\n",
       "|   64 | 64   | 100  | 0.05 | NA   |\n",
       "|  256 | 64   | 100  | 0.05 | NA   |\n",
       "| 1024 | 64   | 100  | 0.05 | NA   |\n",
       "|    4 |  8   | 100  | 0.01 | NA   |\n",
       "|   16 |  8   | 100  | 0.01 | NA   |\n",
       "|   64 |  8   | 100  | 0.01 | NA   |\n",
       "|  256 |  8   | 100  | 0.01 | NA   |\n",
       "| 1024 |  8   | 100  | 0.01 | NA   |\n",
       "|    4 | 64   | 100  | 0.01 | NA   |\n",
       "|   16 | 64   | 100  | 0.01 | NA   |\n",
       "|   64 | 64   | 100  | 0.01 | NA   |\n",
       "|  256 | 64   | 100  | 0.01 | NA   |\n",
       "| 1024 | 64   | 100  | 0.01 | NA   |\n",
       "\n"
      ],
      "text/plain": [
       "   nFeatures nObs nTimes pValue percSignificant\n",
       "1     4       8   100    0.05   NA             \n",
       "2    16       8   100    0.05   NA             \n",
       "3    64       8   100    0.05   NA             \n",
       "4   256       8   100    0.05   NA             \n",
       "5  1024       8   100    0.05   NA             \n",
       "6     4      64   100    0.05   NA             \n",
       "7    16      64   100    0.05   NA             \n",
       "8    64      64   100    0.05   NA             \n",
       "9   256      64   100    0.05   NA             \n",
       "10 1024      64   100    0.05   NA             \n",
       "11    4       8   100    0.01   NA             \n",
       "12   16       8   100    0.01   NA             \n",
       "13   64       8   100    0.01   NA             \n",
       "14  256       8   100    0.01   NA             \n",
       "15 1024       8   100    0.01   NA             \n",
       "16    4      64   100    0.01   NA             \n",
       "17   16      64   100    0.01   NA             \n",
       "18   64      64   100    0.01   NA             \n",
       "19  256      64   100    0.01   NA             \n",
       "20 1024      64   100    0.01   NA             "
      ]
     },
     "metadata": {},
     "output_type": "display_data"
    },
    {
     "data": {
      "text/html": [
       "20"
      ],
      "text/latex": [
       "20"
      ],
      "text/markdown": [
       "20"
      ],
      "text/plain": [
       "[1] 20"
      ]
     },
     "metadata": {},
     "output_type": "display_data"
    }
   ],
   "source": [
    "print(\"thisManyObservations\")\n",
    "(thisManyObservations <- base2_seq[c(2, 5)])\n",
    "print(\"thisManyFeatures\")\n",
    "(thisManyFeatures <- base2_seq[seq(1, 9, 2)])\n",
    "print(\"thesePValues\")\n",
    "(thesePValues <- c(0.05, 0.01))\n",
    "\n",
    "iterationTable <- expand.grid(nFeatures = thisManyFeatures, \n",
    "                              nObs = thisManyObservations, \n",
    "                              nTimes = 100, \n",
    "                              pValue = thesePValues, \n",
    "                              percSignificant = NA)\n",
    "iterationTable\n",
    "nrow(iterationTable)"
   ]
  },
  {
   "cell_type": "markdown",
   "metadata": {},
   "source": [
    "<h4>If you already have the iterationTable file, you can load it here instead of running the loop below and save time</h4>"
   ]
  },
  {
   "cell_type": "code",
   "execution_count": 52,
   "metadata": {},
   "outputs": [],
   "source": [
    "iterationTable <- readRDS(\"DD&CP iterationTable.RDS\")"
   ]
  },
  {
   "cell_type": "markdown",
   "metadata": {},
   "source": [
    "<h4>This next loop iterates over the above table and get our results. This may take a few minutes.</h4>"
   ]
  },
  {
   "cell_type": "code",
   "execution_count": 8,
   "metadata": {},
   "outputs": [],
   "source": [
    "for(i in 1:nrow(iterationTable)){\n",
    "  sigProps <- mclapply(1:iterationTable$nTimes[i], function(x){\n",
    "    testData <- subsampleData(iterationTable$nObs[i], iterationTable$nFeatures[i])\n",
    "    pSig <- sapply(1:(ncol(testData) - 1), function(x){\n",
    "      groups <- testData$group\n",
    "      testData$group <- NULL\n",
    "      groups -> testData$group\n",
    "      dat <- testData[c(x, ncol(testData))]        \n",
    "      names(dat) <- c(\"var\", \"group\")\n",
    "      t.test(var ~ as.factor(group), dat)$p.value})\n",
    "    return(sum(pSig <= iterationTable$pValue[i]))\n",
    "  }) %>% unlist()\n",
    "  iterationTable$nSignificant[i] <- sum(sigProps)\n",
    "}"
   ]
  },
  {
   "cell_type": "markdown",
   "metadata": {},
   "source": [
    "<h4>Adding some columns for average percentage of significant features (percSignificant), the proportion of significant features (pSignificant) and the number of significant features (nSigFeatures)</h4>"
   ]
  },
  {
   "cell_type": "code",
   "execution_count": 9,
   "metadata": {},
   "outputs": [
    {
     "data": {
      "text/html": [
       "<table>\n",
       "<thead><tr><th scope=col>nFeatures</th><th scope=col>nObs</th><th scope=col>nTimes</th><th scope=col>pValue</th><th scope=col>percSignificant</th><th scope=col>nSignificant</th><th scope=col>pSignificant</th><th scope=col>nSigFeatures</th></tr></thead>\n",
       "<tbody>\n",
       "\t<tr><td>   4      </td><td> 8        </td><td>100       </td><td>0.05      </td><td> 0.15     </td><td>  15      </td><td>0.03750000</td><td> 0.15     </td></tr>\n",
       "\t<tr><td>  16      </td><td> 8        </td><td>100       </td><td>0.05      </td><td> 0.82     </td><td>  82      </td><td>0.05125000</td><td> 0.82     </td></tr>\n",
       "\t<tr><td>  64      </td><td> 8        </td><td>100       </td><td>0.05      </td><td> 2.96     </td><td> 296      </td><td>0.04625000</td><td> 2.96     </td></tr>\n",
       "\t<tr><td> 256      </td><td> 8        </td><td>100       </td><td>0.05      </td><td>12.40     </td><td>1240      </td><td>0.04843750</td><td>12.40     </td></tr>\n",
       "\t<tr><td>1024      </td><td> 8        </td><td>100       </td><td>0.05      </td><td>51.67     </td><td>5167      </td><td>0.05045898</td><td>51.67     </td></tr>\n",
       "\t<tr><td>   4      </td><td>64        </td><td>100       </td><td>0.05      </td><td> 0.19     </td><td>  19      </td><td>0.04750000</td><td> 0.19     </td></tr>\n",
       "\t<tr><td>  16      </td><td>64        </td><td>100       </td><td>0.05      </td><td> 0.81     </td><td>  81      </td><td>0.05062500</td><td> 0.81     </td></tr>\n",
       "\t<tr><td>  64      </td><td>64        </td><td>100       </td><td>0.05      </td><td> 2.96     </td><td> 296      </td><td>0.04625000</td><td> 2.96     </td></tr>\n",
       "\t<tr><td> 256      </td><td>64        </td><td>100       </td><td>0.05      </td><td>12.90     </td><td>1290      </td><td>0.05039063</td><td>12.90     </td></tr>\n",
       "\t<tr><td>1024      </td><td>64        </td><td>100       </td><td>0.05      </td><td>51.57     </td><td>5157      </td><td>0.05036133</td><td>51.57     </td></tr>\n",
       "\t<tr><td>   4      </td><td> 8        </td><td>100       </td><td>0.01      </td><td> 0.05     </td><td>   5      </td><td>0.01250000</td><td> 0.05     </td></tr>\n",
       "\t<tr><td>  16      </td><td> 8        </td><td>100       </td><td>0.01      </td><td> 0.13     </td><td>  13      </td><td>0.00812500</td><td> 0.13     </td></tr>\n",
       "\t<tr><td>  64      </td><td> 8        </td><td>100       </td><td>0.01      </td><td> 0.74     </td><td>  74      </td><td>0.01156250</td><td> 0.74     </td></tr>\n",
       "\t<tr><td> 256      </td><td> 8        </td><td>100       </td><td>0.01      </td><td> 2.65     </td><td> 265      </td><td>0.01035156</td><td> 2.65     </td></tr>\n",
       "\t<tr><td>1024      </td><td> 8        </td><td>100       </td><td>0.01      </td><td>10.87     </td><td>1087      </td><td>0.01061523</td><td>10.87     </td></tr>\n",
       "\t<tr><td>   4      </td><td>64        </td><td>100       </td><td>0.01      </td><td> 0.04     </td><td>   4      </td><td>0.01000000</td><td> 0.04     </td></tr>\n",
       "\t<tr><td>  16      </td><td>64        </td><td>100       </td><td>0.01      </td><td> 0.11     </td><td>  11      </td><td>0.00687500</td><td> 0.11     </td></tr>\n",
       "\t<tr><td>  64      </td><td>64        </td><td>100       </td><td>0.01      </td><td> 0.68     </td><td>  68      </td><td>0.01062500</td><td> 0.68     </td></tr>\n",
       "\t<tr><td> 256      </td><td>64        </td><td>100       </td><td>0.01      </td><td> 2.61     </td><td> 261      </td><td>0.01019531</td><td> 2.61     </td></tr>\n",
       "\t<tr><td>1024      </td><td>64        </td><td>100       </td><td>0.01      </td><td>10.30     </td><td>1030      </td><td>0.01005859</td><td>10.30     </td></tr>\n",
       "</tbody>\n",
       "</table>\n"
      ],
      "text/latex": [
       "\\begin{tabular}{r|llllllll}\n",
       " nFeatures & nObs & nTimes & pValue & percSignificant & nSignificant & pSignificant & nSigFeatures\\\\\n",
       "\\hline\n",
       "\t    4       &  8         & 100        & 0.05       &  0.15      &   15       & 0.03750000 &  0.15     \\\\\n",
       "\t   16       &  8         & 100        & 0.05       &  0.82      &   82       & 0.05125000 &  0.82     \\\\\n",
       "\t   64       &  8         & 100        & 0.05       &  2.96      &  296       & 0.04625000 &  2.96     \\\\\n",
       "\t  256       &  8         & 100        & 0.05       & 12.40      & 1240       & 0.04843750 & 12.40     \\\\\n",
       "\t 1024       &  8         & 100        & 0.05       & 51.67      & 5167       & 0.05045898 & 51.67     \\\\\n",
       "\t    4       & 64         & 100        & 0.05       &  0.19      &   19       & 0.04750000 &  0.19     \\\\\n",
       "\t   16       & 64         & 100        & 0.05       &  0.81      &   81       & 0.05062500 &  0.81     \\\\\n",
       "\t   64       & 64         & 100        & 0.05       &  2.96      &  296       & 0.04625000 &  2.96     \\\\\n",
       "\t  256       & 64         & 100        & 0.05       & 12.90      & 1290       & 0.05039063 & 12.90     \\\\\n",
       "\t 1024       & 64         & 100        & 0.05       & 51.57      & 5157       & 0.05036133 & 51.57     \\\\\n",
       "\t    4       &  8         & 100        & 0.01       &  0.05      &    5       & 0.01250000 &  0.05     \\\\\n",
       "\t   16       &  8         & 100        & 0.01       &  0.13      &   13       & 0.00812500 &  0.13     \\\\\n",
       "\t   64       &  8         & 100        & 0.01       &  0.74      &   74       & 0.01156250 &  0.74     \\\\\n",
       "\t  256       &  8         & 100        & 0.01       &  2.65      &  265       & 0.01035156 &  2.65     \\\\\n",
       "\t 1024       &  8         & 100        & 0.01       & 10.87      & 1087       & 0.01061523 & 10.87     \\\\\n",
       "\t    4       & 64         & 100        & 0.01       &  0.04      &    4       & 0.01000000 &  0.04     \\\\\n",
       "\t   16       & 64         & 100        & 0.01       &  0.11      &   11       & 0.00687500 &  0.11     \\\\\n",
       "\t   64       & 64         & 100        & 0.01       &  0.68      &   68       & 0.01062500 &  0.68     \\\\\n",
       "\t  256       & 64         & 100        & 0.01       &  2.61      &  261       & 0.01019531 &  2.61     \\\\\n",
       "\t 1024       & 64         & 100        & 0.01       & 10.30      & 1030       & 0.01005859 & 10.30     \\\\\n",
       "\\end{tabular}\n"
      ],
      "text/markdown": [
       "\n",
       "| nFeatures | nObs | nTimes | pValue | percSignificant | nSignificant | pSignificant | nSigFeatures |\n",
       "|---|---|---|---|---|---|---|---|\n",
       "|    4       |  8         | 100        | 0.05       |  0.15      |   15       | 0.03750000 |  0.15      |\n",
       "|   16       |  8         | 100        | 0.05       |  0.82      |   82       | 0.05125000 |  0.82      |\n",
       "|   64       |  8         | 100        | 0.05       |  2.96      |  296       | 0.04625000 |  2.96      |\n",
       "|  256       |  8         | 100        | 0.05       | 12.40      | 1240       | 0.04843750 | 12.40      |\n",
       "| 1024       |  8         | 100        | 0.05       | 51.67      | 5167       | 0.05045898 | 51.67      |\n",
       "|    4       | 64         | 100        | 0.05       |  0.19      |   19       | 0.04750000 |  0.19      |\n",
       "|   16       | 64         | 100        | 0.05       |  0.81      |   81       | 0.05062500 |  0.81      |\n",
       "|   64       | 64         | 100        | 0.05       |  2.96      |  296       | 0.04625000 |  2.96      |\n",
       "|  256       | 64         | 100        | 0.05       | 12.90      | 1290       | 0.05039063 | 12.90      |\n",
       "| 1024       | 64         | 100        | 0.05       | 51.57      | 5157       | 0.05036133 | 51.57      |\n",
       "|    4       |  8         | 100        | 0.01       |  0.05      |    5       | 0.01250000 |  0.05      |\n",
       "|   16       |  8         | 100        | 0.01       |  0.13      |   13       | 0.00812500 |  0.13      |\n",
       "|   64       |  8         | 100        | 0.01       |  0.74      |   74       | 0.01156250 |  0.74      |\n",
       "|  256       |  8         | 100        | 0.01       |  2.65      |  265       | 0.01035156 |  2.65      |\n",
       "| 1024       |  8         | 100        | 0.01       | 10.87      | 1087       | 0.01061523 | 10.87      |\n",
       "|    4       | 64         | 100        | 0.01       |  0.04      |    4       | 0.01000000 |  0.04      |\n",
       "|   16       | 64         | 100        | 0.01       |  0.11      |   11       | 0.00687500 |  0.11      |\n",
       "|   64       | 64         | 100        | 0.01       |  0.68      |   68       | 0.01062500 |  0.68      |\n",
       "|  256       | 64         | 100        | 0.01       |  2.61      |  261       | 0.01019531 |  2.61      |\n",
       "| 1024       | 64         | 100        | 0.01       | 10.30      | 1030       | 0.01005859 | 10.30      |\n",
       "\n"
      ],
      "text/plain": [
       "   nFeatures nObs nTimes pValue percSignificant nSignificant pSignificant\n",
       "1     4       8   100    0.05    0.15             15         0.03750000  \n",
       "2    16       8   100    0.05    0.82             82         0.05125000  \n",
       "3    64       8   100    0.05    2.96            296         0.04625000  \n",
       "4   256       8   100    0.05   12.40           1240         0.04843750  \n",
       "5  1024       8   100    0.05   51.67           5167         0.05045898  \n",
       "6     4      64   100    0.05    0.19             19         0.04750000  \n",
       "7    16      64   100    0.05    0.81             81         0.05062500  \n",
       "8    64      64   100    0.05    2.96            296         0.04625000  \n",
       "9   256      64   100    0.05   12.90           1290         0.05039063  \n",
       "10 1024      64   100    0.05   51.57           5157         0.05036133  \n",
       "11    4       8   100    0.01    0.05              5         0.01250000  \n",
       "12   16       8   100    0.01    0.13             13         0.00812500  \n",
       "13   64       8   100    0.01    0.74             74         0.01156250  \n",
       "14  256       8   100    0.01    2.65            265         0.01035156  \n",
       "15 1024       8   100    0.01   10.87           1087         0.01061523  \n",
       "16    4      64   100    0.01    0.04              4         0.01000000  \n",
       "17   16      64   100    0.01    0.11             11         0.00687500  \n",
       "18   64      64   100    0.01    0.68             68         0.01062500  \n",
       "19  256      64   100    0.01    2.61            261         0.01019531  \n",
       "20 1024      64   100    0.01   10.30           1030         0.01005859  \n",
       "   nSigFeatures\n",
       "1   0.15       \n",
       "2   0.82       \n",
       "3   2.96       \n",
       "4  12.40       \n",
       "5  51.67       \n",
       "6   0.19       \n",
       "7   0.81       \n",
       "8   2.96       \n",
       "9  12.90       \n",
       "10 51.57       \n",
       "11  0.05       \n",
       "12  0.13       \n",
       "13  0.74       \n",
       "14  2.65       \n",
       "15 10.87       \n",
       "16  0.04       \n",
       "17  0.11       \n",
       "18  0.68       \n",
       "19  2.61       \n",
       "20 10.30       "
      ]
     },
     "metadata": {},
     "output_type": "display_data"
    }
   ],
   "source": [
    "iterationTable <- iterationTable %>% mutate(percSignificant = nSignificant / nTimes,\n",
    "                                            pSignificant = percSignificant / nFeatures,\n",
    "                                            nSigFeatures = pSignificant * nFeatures)\n",
    "iterationTable"
   ]
  },
  {
   "cell_type": "markdown",
   "metadata": {},
   "source": [
    "<h4>You can save the data by uncommenting the below line of code</h4>"
   ]
  },
  {
   "cell_type": "code",
   "execution_count": 23,
   "metadata": {},
   "outputs": [],
   "source": [
    "# saveRDS(iterationTable, \"DD&CP iterationTable.RDS\")"
   ]
  },
  {
   "cell_type": "markdown",
   "metadata": {},
   "source": [
    "<h4>We can see from these many iterations that randomly generated data can yield a number of significantly different features that is directly proportional to the level of significance we measure at.</h4>"
   ]
  },
  {
   "cell_type": "code",
   "execution_count": 10,
   "metadata": {},
   "outputs": [
    {
     "data": {
      "image/png": "[encoded data removed]",
      "text/plain": [
       "plot without title"
      ]
     },
     "metadata": {},
     "output_type": "display_data"
    }
   ],
   "source": [
    "iterationTable %>% \n",
    "    ggplot(aes(as.factor(nObs), pSignificant, col = as.factor(pValue))) + \n",
    "    geom_boxplot() + \n",
    "    geom_jitter(width = 0.1) +\n",
    "    labs(x = \"Number of observations\", y = \"Proportion of significantly different features\") +\n",
    "    scale_colour_discrete(name = \"P-value\") +\n",
    "    theme(legend.position = \"top\") +\n",
    "    facet_wrap(~pValue)"
   ]
  },
  {
   "cell_type": "markdown",
   "metadata": {},
   "source": [
    "<h4>What is most concerning about patterns (significant features) in noise, from a machine learning perspective, is that as the number of features increases, the number of significant features can increase proportionally with the alpha level of significance of our significance test. The number of observations in this example does not impact the result.</h4>"
   ]
  },
  {
   "cell_type": "code",
   "execution_count": 11,
   "metadata": {},
   "outputs": [
    {
     "data": {
      "image/png": "[encoded data removed]",
      "text/plain": [
       "plot without title"
      ]
     },
     "metadata": {},
     "output_type": "display_data"
    }
   ],
   "source": [
    "iterationTable %>% \n",
    "    ggplot(aes(nFeatures, nSigFeatures, col = as.factor(nObs))) + \n",
    "    geom_line() + \n",
    "    geom_point() +\n",
    "    labs(x = \"Number of features\", y = \"Number of significantly different features\") +\n",
    "    scale_colour_discrete(name = \"Number of observations\") +\n",
    "    theme(legend.position = \"top\") +\n",
    "    facet_wrap(~pValue)"
   ]
  },
  {
   "cell_type": "markdown",
   "metadata": {},
   "source": [
    "<h2>In other words, <u>as the number of features increase</u>, machine learning algorithms are given <u>more opportunity to learn patterns that arise from chance/noise</u>.</h2>\n",
    "\n",
    "<h4>Because of this statistical likelihood we can be fooled into thinking that we can distinguish between different classes. The fact that we are being fooled will not necessarily be evident from accuracy scores or other metrics such as Cohen's Kappa. This is where, wherever possible, we must use our specialist knowledge to scrutinise the decision-making behaviour of the algorithm.</h4> \n",
    "\n",
    "<h4>In some instances it may not be able to peer into the black box of the algorithm, so it is doubly important that caution must be used when interpreting model results where large numbers of features are present in the data.</h4>"
   ]
  },
  {
   "cell_type": "markdown",
   "metadata": {},
   "source": [
    "<ul>\n",
    "    <li>We should assume that some features will return as significant <b>by chance</b></li>\n",
    "    <li>Some algorithms use significance tests or make decisions similarly, therefore:\n",
    "        <ul>\n",
    "        <li>It is likely that the proportion of potential chance significant features approximately equals the alpha level of significance</li>\n",
    "        <li>It is likely prudent to check that there are many (a threshold) more significant features than the alpha level of significance</li>\n",
    "        </ul>\n",
    "    <li>We should be mindful when using feature selection algorithms</li>\n",
    "    <li>We should use subject-specific knowedge where possible</li>\n",
    "</ul>"
   ]
  },
  {
   "cell_type": "markdown",
   "metadata": {},
   "source": [
    "Notes to self:\n",
    "Should we use something like the Bonferroni correction and set alpha = 1/n (n = # of wavenumbers)"
   ]
  }
 ],
 "metadata": {
  "kernelspec": {
   "display_name": "R",
   "language": "R",
   "name": "ir"
  },
  "language_info": {
   "codemirror_mode": "r",
   "file_extension": ".r",
   "mimetype": "text/x-r-source",
   "name": "R",
   "pygments_lexer": "r",
   "version": "3.6.1"
  }
 },
 "nbformat": 4,
 "nbformat_minor": 4
}
