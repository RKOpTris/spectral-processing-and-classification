{
 "cells": [
  {
   "cell_type": "markdown",
   "metadata": {},
   "source": [
    "<h1>Potential pitfalls of feature selection with high-dimensional data</h1>"
   ]
  },
  {
   "cell_type": "markdown",
   "metadata": {},
   "source": [
    "In this notebook we will explore how having many features increases the chances of finding signal in noise. Feature selection can actually increase the possibility that you might \"distill\" a \"signal\" and happen across some effective-looking models even when working with data that have been generated at random."
   ]
  },
  {
   "cell_type": "markdown",
   "metadata": {},
   "source": [
    "<h4>Loading packages and defining a couple of functions</h4>"
   ]
  },
  {
   "cell_type": "code",
   "execution_count": 2,
   "metadata": {},
   "outputs": [],
   "source": [
    "library(dplyr)\n",
    "library(Boruta)\n",
    "library(ggplot2)\n",
    "library(caret)\n",
    "library(tidyr)\n",
    "call.do <- function(args, what){do.call(what, args)}\n",
    "plot.window <- function(x, y){\n",
    "    options(repr.plot.width = x, repr.plot.height = y, repr.plot.res = 100)\n",
    "}"
   ]
  },
  {
   "cell_type": "markdown",
   "metadata": {},
   "source": [
    "<h4>These functions from my (RKOpTris) useful-funs and r-class-tools repositories on GitHub. They are to split the dataset into trai, test and holdout sets, and then to write as objects into the global environment</h4>"
   ]
  },
  {
   "cell_type": "code",
   "execution_count": 3,
   "metadata": {},
   "outputs": [],
   "source": [
    "tth_split <- function(df, var = NULL, test_prop = 0.15, holdout_prop = 0.15, shuffle_train = F){\n",
    "  stopifnot(is.numeric(test_prop), test_prop >= 0.05, holdout_prop <= test_prop, is.numeric(holdout_prop))\n",
    "  if(!is.null(var)){\n",
    "    tth_split <- split(df, df[[var]])\n",
    "  } else {\n",
    "    tth_split <- list(df)\n",
    "  }\n",
    "  train_prop <- 1 - test_prop - holdout_prop\n",
    "  tth_data <- lapply(tth_split, function(df){\n",
    "    df$.TTH <- sample(c(\"train\", \"test\", \"holdout\"), nrow(df), replace = T, prob = c(train_prop, test_prop, holdout_prop))\n",
    "    df\n",
    "  })\n",
    "  tth_data <- do.call(rbind, tth_data)\n",
    "  row.names(tth_data) <- 1:nrow(tth_data)\n",
    "  tth_data <- tth_data %>% split(tth_data$.TTH)\n",
    "  tth_data <- lapply(tth_data, function(df){df$.TTH <- NULL; df})\n",
    "  if(shuffle_train){\n",
    "    tth_data$train[[var]] <- shuffle(tth_data$train[[var]])\n",
    "  }\n",
    "  tth_data\n",
    "}\n",
    "\n",
    "list_to_objects <- function(x, suffix = NULL, envir = parent.env(environment())){\n",
    "  stopifnot(is.list(x) | is.environment(envir))\n",
    "  if(is.null(names(x))){\n",
    "    names(x) <- paste0(\"X\", 1:length(x))\n",
    "  } \n",
    "  list_names <- names(x)\n",
    "  if(!is.null(suffix)){\n",
    "    object_names <- paste0(suffix, \"_\", list_names)\n",
    "  } else {\n",
    "    object_names <- list_names\n",
    "  }\n",
    "  for(i in 1:length(x)){\n",
    "    assign(object_names[i], x[[list_names[i]]], envir = envir)\n",
    "    message(object_names[i], \" created\")\n",
    "  }\n",
    "}"
   ]
  },
  {
   "cell_type": "markdown",
   "metadata": {},
   "source": [
    "<h4>Generate random dataset and separate observations (randomly) into two classes (a and b) which will be used to train a random forest model</h4>"
   ]
  },
  {
   "cell_type": "code",
   "execution_count": 4,
   "metadata": {},
   "outputs": [
    {
     "data": {
      "text/html": [
       "<ol class=list-inline>\n",
       "\t<li>64</li>\n",
       "\t<li>1025</li>\n",
       "</ol>\n"
      ],
      "text/latex": [
       "\\begin{enumerate*}\n",
       "\\item 64\n",
       "\\item 1025\n",
       "\\end{enumerate*}\n"
      ],
      "text/markdown": [
       "1. 64\n",
       "2. 1025\n",
       "\n",
       "\n"
      ],
      "text/plain": [
       "[1]   64 1025"
      ]
     },
     "metadata": {},
     "output_type": "display_data"
    }
   ],
   "source": [
    "nObservation <- 2^6\n",
    "nFeature <- 2^10\n",
    "set.seed(1138)\n",
    "randomData <- lapply(1:nObservation, function(i){runif(nFeature)}) %>% call.do(rbind) %>% data.frame()\n",
    "nGroup <- 2\n",
    "classSize <- nObservation / nGroup\n",
    "randomData <- randomData %>% mutate(group = rep(letters[1:nGroup], each = classSize))\n",
    "dim(randomData)"
   ]
  },
  {
   "cell_type": "markdown",
   "metadata": {},
   "source": [
    "<h4>Split data into train, test and holdout sets for random forest</h4>"
   ]
  },
  {
   "cell_type": "code",
   "execution_count": 5,
   "metadata": {},
   "outputs": [
    {
     "name": "stderr",
     "output_type": "stream",
     "text": [
      "holdback created\n",
      "test created\n",
      "train created\n"
     ]
    },
    {
     "data": {
      "text/html": [
       "<table>\n",
       "<thead><tr><th></th><th scope=col>X1</th><th scope=col>X2</th><th scope=col>X3</th><th scope=col>X4</th><th scope=col>X5</th><th scope=col>X6</th><th scope=col>X7</th><th scope=col>X8</th><th scope=col>X9</th><th scope=col>X10</th><th scope=col>...</th><th scope=col>X1016</th><th scope=col>X1017</th><th scope=col>X1018</th><th scope=col>X1019</th><th scope=col>X1020</th><th scope=col>X1021</th><th scope=col>X1022</th><th scope=col>X1023</th><th scope=col>X1024</th><th scope=col>group</th></tr></thead>\n",
       "<tbody>\n",
       "\t<tr><th scope=row>1</th><td>0.2735481  </td><td>0.1658198  </td><td>0.2716583  </td><td>0.59671162 </td><td>0.6689339  </td><td>0.47903286 </td><td>0.53462407 </td><td>0.9021131  </td><td>0.2794055  </td><td>0.81010312 </td><td>...        </td><td>0.59936817 </td><td>0.40161776 </td><td>0.75901258 </td><td>0.01027292 </td><td>0.1420067  </td><td>0.567931393</td><td>0.2251452  </td><td>0.2794025  </td><td>0.001682388</td><td>a          </td></tr>\n",
       "\t<tr><th scope=row>2</th><td>0.4369064  </td><td>0.2624905  </td><td>0.5173542  </td><td>0.84487795 </td><td>0.7948039  </td><td>0.17687608 </td><td>0.90222333 </td><td>0.3681251  </td><td>0.1220852  </td><td>0.36096901 </td><td>...        </td><td>0.07580692 </td><td>0.08328123 </td><td>0.09615077 </td><td>0.05752478 </td><td>0.8723098  </td><td>0.339875903</td><td>0.2504070  </td><td>0.4939295  </td><td>0.509679762</td><td>a          </td></tr>\n",
       "\t<tr><th scope=row>4</th><td>0.9805419  </td><td>0.1242287  </td><td>0.5751676  </td><td>0.07271604 </td><td>0.6763298  </td><td>0.30267699 </td><td>0.86821552 </td><td>0.7064075  </td><td>0.6812734  </td><td>0.76650626 </td><td>...        </td><td>0.07258728 </td><td>0.67698065 </td><td>0.57424622 </td><td>0.37587236 </td><td>0.5659434  </td><td>0.642358562</td><td>0.9803297  </td><td>0.1986621  </td><td>0.166158764</td><td>a          </td></tr>\n",
       "\t<tr><th scope=row>6</th><td>0.1516652  </td><td>0.9135941  </td><td>0.2806793  </td><td>0.98765521 </td><td>0.8341834  </td><td>0.08730391 </td><td>0.09749321 </td><td>0.9924669  </td><td>0.3992429  </td><td>0.23050736 </td><td>...        </td><td>0.26820880 </td><td>0.93047142 </td><td>0.02388089 </td><td>0.89538908 </td><td>0.6274444  </td><td>0.146701076</td><td>0.9860405  </td><td>0.5730885  </td><td>0.136443190</td><td>a          </td></tr>\n",
       "\t<tr><th scope=row>7</th><td>0.9415527  </td><td>0.5875131  </td><td>0.8116554  </td><td>0.59386725 </td><td>0.2158728  </td><td>0.52846828 </td><td>0.86244734 </td><td>0.4014504  </td><td>0.1643136  </td><td>0.89367783 </td><td>...        </td><td>0.74079801 </td><td>0.86602918 </td><td>0.80806014 </td><td>0.78082153 </td><td>0.2225391  </td><td>0.017228276</td><td>0.6162191  </td><td>0.2606054  </td><td>0.510471286</td><td>a          </td></tr>\n",
       "\t<tr><th scope=row>8</th><td>0.2219987  </td><td>0.1485699  </td><td>0.4536769  </td><td>0.47694581 </td><td>0.7954455  </td><td>0.04507450 </td><td>0.76660145 </td><td>0.8217877  </td><td>0.2482733  </td><td>0.04420001 </td><td>...        </td><td>0.17687233 </td><td>0.81537920 </td><td>0.16013135 </td><td>0.33402010 </td><td>0.2477387  </td><td>0.005409186</td><td>0.8383730  </td><td>0.4582069  </td><td>0.905461462</td><td>a          </td></tr>\n",
       "</tbody>\n",
       "</table>\n"
      ],
      "text/latex": [
       "\\begin{tabular}{r|lllllllllllllllllllllllllllllllllllllllllllllllllllllllllllllllllllllllllllllllllllllllllllllllllllllllllllllllllllllllllllllllllllllllllllllllllllllllllllllllllllllllllllllllllllllllllllllllllllllllllllllllllllllllllllllllllllllllllllllllllllllllllllllllllllllllllllllllllllllllllllllllllllllllllllllllllllllllllllllllllllllllllllllllllllllllllllllllllllllllllllllllllllllllllllllllllllllllllllllllllllllllllllllllllllllllllllllllllllllllllllllllllllllllllllllllllllllllllllllllllllllllllllllllllllllllllllllllllllllllllllllllllllllllllllllllllllllllllllllllllllllllllllllllllllllllllllllllllllllllllllllllllllllllllllllllllllllllllllllllllllllllllllllllllllllllllllllllllllllllllllllllllllllllllllllllllllllllllllllllllllllllllllllllllllllllllllllllllllllllllllllllllllllllllllllllllllllllllllllllllllllllllllllllllllllllllllllllllllllllllllllllllllllllllllllllllllllllllllllllllllllllllllllllllllllllllllllllllllllllllllllllllllllllllllllllllllllllllllllllllllllllllllllllllllllllllllllllllllllllllllllllllllllllllllllllll}\n",
       "  & X1 & X2 & X3 & X4 & X5 & X6 & X7 & X8 & X9 & X10 & ... & X1016 & X1017 & X1018 & X1019 & X1020 & X1021 & X1022 & X1023 & X1024 & group\\\\\n",
       "\\hline\n",
       "\t1 & 0.2735481   & 0.1658198   & 0.2716583   & 0.59671162  & 0.6689339   & 0.47903286  & 0.53462407  & 0.9021131   & 0.2794055   & 0.81010312  & ...         & 0.59936817  & 0.40161776  & 0.75901258  & 0.01027292  & 0.1420067   & 0.567931393 & 0.2251452   & 0.2794025   & 0.001682388 & a          \\\\\n",
       "\t2 & 0.4369064   & 0.2624905   & 0.5173542   & 0.84487795  & 0.7948039   & 0.17687608  & 0.90222333  & 0.3681251   & 0.1220852   & 0.36096901  & ...         & 0.07580692  & 0.08328123  & 0.09615077  & 0.05752478  & 0.8723098   & 0.339875903 & 0.2504070   & 0.4939295   & 0.509679762 & a          \\\\\n",
       "\t4 & 0.9805419   & 0.1242287   & 0.5751676   & 0.07271604  & 0.6763298   & 0.30267699  & 0.86821552  & 0.7064075   & 0.6812734   & 0.76650626  & ...         & 0.07258728  & 0.67698065  & 0.57424622  & 0.37587236  & 0.5659434   & 0.642358562 & 0.9803297   & 0.1986621   & 0.166158764 & a          \\\\\n",
       "\t6 & 0.1516652   & 0.9135941   & 0.2806793   & 0.98765521  & 0.8341834   & 0.08730391  & 0.09749321  & 0.9924669   & 0.3992429   & 0.23050736  & ...         & 0.26820880  & 0.93047142  & 0.02388089  & 0.89538908  & 0.6274444   & 0.146701076 & 0.9860405   & 0.5730885   & 0.136443190 & a          \\\\\n",
       "\t7 & 0.9415527   & 0.5875131   & 0.8116554   & 0.59386725  & 0.2158728   & 0.52846828  & 0.86244734  & 0.4014504   & 0.1643136   & 0.89367783  & ...         & 0.74079801  & 0.86602918  & 0.80806014  & 0.78082153  & 0.2225391   & 0.017228276 & 0.6162191   & 0.2606054   & 0.510471286 & a          \\\\\n",
       "\t8 & 0.2219987   & 0.1485699   & 0.4536769   & 0.47694581  & 0.7954455   & 0.04507450  & 0.76660145  & 0.8217877   & 0.2482733   & 0.04420001  & ...         & 0.17687233  & 0.81537920  & 0.16013135  & 0.33402010  & 0.2477387   & 0.005409186 & 0.8383730   & 0.4582069   & 0.905461462 & a          \\\\\n",
       "\\end{tabular}\n"
      ],
      "text/markdown": [
       "\n",
       "| <!--/--> | X1 | X2 | X3 | X4 | X5 | X6 | X7 | X8 | X9 | X10 | ... | X1016 | X1017 | X1018 | X1019 | X1020 | X1021 | X1022 | X1023 | X1024 | group |\n",
       "|---|---|---|---|---|---|---|---|---|---|---|---|---|---|---|---|---|---|---|---|---|---|\n",
       "| 1 | 0.2735481   | 0.1658198   | 0.2716583   | 0.59671162  | 0.6689339   | 0.47903286  | 0.53462407  | 0.9021131   | 0.2794055   | 0.81010312  | ...         | 0.59936817  | 0.40161776  | 0.75901258  | 0.01027292  | 0.1420067   | 0.567931393 | 0.2251452   | 0.2794025   | 0.001682388 | a           |\n",
       "| 2 | 0.4369064   | 0.2624905   | 0.5173542   | 0.84487795  | 0.7948039   | 0.17687608  | 0.90222333  | 0.3681251   | 0.1220852   | 0.36096901  | ...         | 0.07580692  | 0.08328123  | 0.09615077  | 0.05752478  | 0.8723098   | 0.339875903 | 0.2504070   | 0.4939295   | 0.509679762 | a           |\n",
       "| 4 | 0.9805419   | 0.1242287   | 0.5751676   | 0.07271604  | 0.6763298   | 0.30267699  | 0.86821552  | 0.7064075   | 0.6812734   | 0.76650626  | ...         | 0.07258728  | 0.67698065  | 0.57424622  | 0.37587236  | 0.5659434   | 0.642358562 | 0.9803297   | 0.1986621   | 0.166158764 | a           |\n",
       "| 6 | 0.1516652   | 0.9135941   | 0.2806793   | 0.98765521  | 0.8341834   | 0.08730391  | 0.09749321  | 0.9924669   | 0.3992429   | 0.23050736  | ...         | 0.26820880  | 0.93047142  | 0.02388089  | 0.89538908  | 0.6274444   | 0.146701076 | 0.9860405   | 0.5730885   | 0.136443190 | a           |\n",
       "| 7 | 0.9415527   | 0.5875131   | 0.8116554   | 0.59386725  | 0.2158728   | 0.52846828  | 0.86244734  | 0.4014504   | 0.1643136   | 0.89367783  | ...         | 0.74079801  | 0.86602918  | 0.80806014  | 0.78082153  | 0.2225391   | 0.017228276 | 0.6162191   | 0.2606054   | 0.510471286 | a           |\n",
       "| 8 | 0.2219987   | 0.1485699   | 0.4536769   | 0.47694581  | 0.7954455   | 0.04507450  | 0.76660145  | 0.8217877   | 0.2482733   | 0.04420001  | ...         | 0.17687233  | 0.81537920  | 0.16013135  | 0.33402010  | 0.2477387   | 0.005409186 | 0.8383730   | 0.4582069   | 0.905461462 | a           |\n",
       "\n"
      ],
      "text/plain": [
       "  X1        X2        X3        X4         X5        X6         X7        \n",
       "1 0.2735481 0.1658198 0.2716583 0.59671162 0.6689339 0.47903286 0.53462407\n",
       "2 0.4369064 0.2624905 0.5173542 0.84487795 0.7948039 0.17687608 0.90222333\n",
       "4 0.9805419 0.1242287 0.5751676 0.07271604 0.6763298 0.30267699 0.86821552\n",
       "6 0.1516652 0.9135941 0.2806793 0.98765521 0.8341834 0.08730391 0.09749321\n",
       "7 0.9415527 0.5875131 0.8116554 0.59386725 0.2158728 0.52846828 0.86244734\n",
       "8 0.2219987 0.1485699 0.4536769 0.47694581 0.7954455 0.04507450 0.76660145\n",
       "  X8        X9        X10        ... X1016      X1017      X1018     \n",
       "1 0.9021131 0.2794055 0.81010312 ... 0.59936817 0.40161776 0.75901258\n",
       "2 0.3681251 0.1220852 0.36096901 ... 0.07580692 0.08328123 0.09615077\n",
       "4 0.7064075 0.6812734 0.76650626 ... 0.07258728 0.67698065 0.57424622\n",
       "6 0.9924669 0.3992429 0.23050736 ... 0.26820880 0.93047142 0.02388089\n",
       "7 0.4014504 0.1643136 0.89367783 ... 0.74079801 0.86602918 0.80806014\n",
       "8 0.8217877 0.2482733 0.04420001 ... 0.17687233 0.81537920 0.16013135\n",
       "  X1019      X1020     X1021       X1022     X1023     X1024       group\n",
       "1 0.01027292 0.1420067 0.567931393 0.2251452 0.2794025 0.001682388 a    \n",
       "2 0.05752478 0.8723098 0.339875903 0.2504070 0.4939295 0.509679762 a    \n",
       "4 0.37587236 0.5659434 0.642358562 0.9803297 0.1986621 0.166158764 a    \n",
       "6 0.89538908 0.6274444 0.146701076 0.9860405 0.5730885 0.136443190 a    \n",
       "7 0.78082153 0.2225391 0.017228276 0.6162191 0.2606054 0.510471286 a    \n",
       "8 0.33402010 0.2477387 0.005409186 0.8383730 0.4582069 0.905461462 a    "
      ]
     },
     "metadata": {},
     "output_type": "display_data"
    }
   ],
   "source": [
    "tth_split(randomData, \"group\") %>% list_to_objects()\n",
    "head(train)"
   ]
  },
  {
   "cell_type": "markdown",
   "metadata": {},
   "source": [
    "<h4>We'll do some feature selection on the random features we've created in this random dataset. Boruta, our feature selection algorithm can take a while. You can always load the dataset a couple of lines below. It is running 10 times so be patient! Here we're using the default value of 0.01</h4>"
   ]
  },
  {
   "cell_type": "code",
   "execution_count": 29,
   "metadata": {},
   "outputs": [],
   "source": [
    "# randomBoruta <- vector(\"list\", 10)\n",
    "# for(i in 1:length(randomBoruta)){\n",
    "#     randomBoruta[[i]] <- Boruta(select(train, -group), as.factor(train$group), maxRuns = 500, doTrace = 0, pValue = 0.01)\n",
    "# }"
   ]
  },
  {
   "cell_type": "code",
   "execution_count": 30,
   "metadata": {},
   "outputs": [],
   "source": [
    "# saveRDS(randomBoruta, \"randomBoruta.RDS\")"
   ]
  },
  {
   "cell_type": "code",
   "execution_count": 6,
   "metadata": {},
   "outputs": [],
   "source": [
    "randomBoruta <- readRDS(\"randomBoruta.RDS\")"
   ]
  },
  {
   "cell_type": "markdown",
   "metadata": {},
   "source": [
    "<h4>In the last notebook about chance patterns in data, we explored the possibility that the more features we have increases the possibility of some features containing signal from the noise that might show as significant in a statistical test. We have used the Boruta algorithm and an alpha level of significance of 0.01. We have 1024 features and so we might expect that ~10 might be significant. In this particaulr randomly generated dataset Boruta, after 10 runs, found and average of ~7. The results are plottied in a histogram.</h4> "
   ]
  },
  {
   "cell_type": "code",
   "execution_count": 7,
   "metadata": {},
   "outputs": [
    {
     "name": "stdout",
     "output_type": "stream",
     "text": [
      "[1] \"Potential number of significant features\"\n"
     ]
    },
    {
     "data": {
      "text/html": [
       "10.24"
      ],
      "text/latex": [
       "10.24"
      ],
      "text/markdown": [
       "10.24"
      ],
      "text/plain": [
       "[1] 10.24"
      ]
     },
     "metadata": {},
     "output_type": "display_data"
    },
    {
     "name": "stdout",
     "output_type": "stream",
     "text": [
      "[1] \"Number of important features identified by Boruta in each run\"\n"
     ]
    },
    {
     "data": {
      "text/html": [
       "<ol class=list-inline>\n",
       "\t<li>11</li>\n",
       "\t<li>8</li>\n",
       "\t<li>6</li>\n",
       "\t<li>4</li>\n",
       "\t<li>5</li>\n",
       "\t<li>7</li>\n",
       "\t<li>7</li>\n",
       "\t<li>5</li>\n",
       "\t<li>7</li>\n",
       "\t<li>6</li>\n",
       "</ol>\n"
      ],
      "text/latex": [
       "\\begin{enumerate*}\n",
       "\\item 11\n",
       "\\item 8\n",
       "\\item 6\n",
       "\\item 4\n",
       "\\item 5\n",
       "\\item 7\n",
       "\\item 7\n",
       "\\item 5\n",
       "\\item 7\n",
       "\\item 6\n",
       "\\end{enumerate*}\n"
      ],
      "text/markdown": [
       "1. 11\n",
       "2. 8\n",
       "3. 6\n",
       "4. 4\n",
       "5. 5\n",
       "6. 7\n",
       "7. 7\n",
       "8. 5\n",
       "9. 7\n",
       "10. 6\n",
       "\n",
       "\n"
      ],
      "text/plain": [
       " [1] 11  8  6  4  5  7  7  5  7  6"
      ]
     },
     "metadata": {},
     "output_type": "display_data"
    },
    {
     "name": "stdout",
     "output_type": "stream",
     "text": [
      "[1] \"Mean number of important features identified by Boruta for all runs\"\n"
     ]
    },
    {
     "data": {
      "text/html": [
       "6.6"
      ],
      "text/latex": [
       "6.6"
      ],
      "text/markdown": [
       "6.6"
      ],
      "text/plain": [
       "[1] 6.6"
      ]
     },
     "metadata": {},
     "output_type": "display_data"
    },
    {
     "name": "stderr",
     "output_type": "stream",
     "text": [
      "Warning message:\n",
      "\"Column `value` joining factors with different levels, coercing to character vector\""
     ]
    },
    {
     "data": {
      "image/png": "[encoded data removed]",
      "text/plain": [
       "plot without title"
      ]
     },
     "metadata": {},
     "output_type": "display_data"
    }
   ],
   "source": [
    "print(\"Potential number of significant features\")\n",
    "(numPotential <- 0.01 * nFeature)\n",
    "\n",
    "print(\"Number of important features identified by Boruta in each run\")\n",
    "(numImportant <- sapply(randomBoruta, function(x){sum(x$finalDecision == \"Confirmed\")}))\n",
    "\n",
    "print(\"Mean number of important features identified by Boruta for all runs\")\n",
    "mean(numImportant)\n",
    "\n",
    "plot.window(5, 5)\n",
    "data.frame(table(numImportant)) %>% \n",
    "    rename(\"value\" = \"numImportant\", \"count\" = \"Freq\") %>%\n",
    "    right_join(data.frame(value = as.factor(0:12)), by = \"value\") %>%\n",
    "    replace(is.na(.), 0) %>%\n",
    "    mutate(value = factor(value, levels = as.character(0:12))) %>%\n",
    "    ggplot(aes(x = value, y = count)) +\n",
    "    geom_col()"
   ]
  },
  {
   "cell_type": "markdown",
   "metadata": {},
   "source": [
    "<h4>Now let's see the difference between training a random forest model on all of the data, versus a model trained on the data containing only the (randomly) important features. On all the data accuracy generally was about chance, but Kappa was low. The best result (mtry = 2, splitrule = gini) was accuracy = 0.65, Kappa = 0.29 (which is about the threshold for whether a model is performing well).</h4>"
   ]
  },
  {
   "cell_type": "code",
   "execution_count": 8,
   "metadata": {},
   "outputs": [
    {
     "data": {
      "text/plain": [
       "Random Forest \n",
       "\n",
       "No pre-processing\n",
       "Resampling: Cross-Validated (3 fold) \n",
       "Summary of sample sizes: 30, 32, 30 \n",
       "Resampling results across tuning parameters:\n",
       "\n",
       "  mtry  splitrule   Accuracy   Kappa      \n",
       "     2  gini        0.6458333   0.29166667\n",
       "     2  extratrees  0.5238095   0.04761905\n",
       "    45  gini        0.3988095  -0.20238095\n",
       "    45  extratrees  0.5000000   0.00000000\n",
       "  1024  gini        0.4315476  -0.13690476\n",
       "  1024  extratrees  0.4136905  -0.17261905\n",
       "\n",
       "Tuning parameter 'min.node.size' was held constant at a value of 1\n",
       "Accuracy was used to select the optimal model using the largest value.\n",
       "The final values used for the model were mtry = 2, splitrule = gini\n",
       " and min.node.size = 1."
      ]
     },
     "metadata": {},
     "output_type": "display_data"
    }
   ],
   "source": [
    "# Run classification on complete data\n",
    "rf_mod <- caret::train(group ~ ., train,\n",
    "                       method = \"ranger\",\n",
    "                       trControl = trainControl(method = \"cv\",\n",
    "                                                number = 3,\n",
    "                                                returnData = F))\n",
    "rf_mod"
   ]
  },
  {
   "cell_type": "markdown",
   "metadata": {},
   "source": [
    "<h4>Here we have the important features in our dataset of random values.</h4>"
   ]
  },
  {
   "cell_type": "code",
   "execution_count": 11,
   "metadata": {},
   "outputs": [
    {
     "name": "stderr",
     "output_type": "stream",
     "text": [
      "notch went outside hinges. Try setting notch=FALSE.\n",
      "notch went outside hinges. Try setting notch=FALSE.\n",
      "notch went outside hinges. Try setting notch=FALSE.\n",
      "notch went outside hinges. Try setting notch=FALSE.\n",
      "notch went outside hinges. Try setting notch=FALSE.\n"
     ]
    },
    {
     "data": {
      "image/png": "[encoded data removed]",
      "text/plain": [
       "plot without title"
      ]
     },
     "metadata": {},
     "output_type": "display_data"
    }
   ],
   "source": [
    "fs_train <- train[randomBoruta[[1]]$finalDecision == \"Confirmed\"]\n",
    "fs_train <- fs_train %>% mutate(group = train$group)\n",
    "\n",
    "plot.window(10, 5)\n",
    "fs_train %>% \n",
    "    gather(\"pseudoWavenumber\", \"pseudoAbsorbance\", -group) %>%\n",
    "    ggplot(aes(group, pseudoAbsorbance)) +\n",
    "    geom_boxplot(notch = T) +\n",
    "    geom_jitter(width = 0.1, aes(col = group)) +\n",
    "    facet_wrap(~pseudoWavenumber, nrow = 1)"
   ]
  },
  {
   "cell_type": "markdown",
   "metadata": {},
   "source": [
    "<h4>If we feature select just those \"important\" features and train a random forest model, we get up to accuracy = 0.85 and Kappa = 0.7 (mtry = 2, splitrule = extratrees) which would be considered a very effective model. This is randomly generated data, remember. We kept aside test and holdout sets to further validate the model. Let's see what we get...</h4>"
   ]
  },
  {
   "cell_type": "code",
   "execution_count": 12,
   "metadata": {},
   "outputs": [
    {
     "data": {
      "text/plain": [
       "Random Forest \n",
       "\n",
       "No pre-processing\n",
       "Resampling: Cross-Validated (3 fold) \n",
       "Summary of sample sizes: 30, 31, 31 \n",
       "Resampling results across tuning parameters:\n",
       "\n",
       "  mtry  splitrule   Accuracy   Kappa    \n",
       "   2    gini        0.7375000  0.4743362\n",
       "   2    extratrees  0.8458333  0.6951552\n",
       "   6    gini        0.7388889  0.4753647\n",
       "   6    extratrees  0.7597222  0.5194236\n",
       "  11    gini        0.7375000  0.4743362\n",
       "  11    extratrees  0.6958333  0.3940276\n",
       "\n",
       "Tuning parameter 'min.node.size' was held constant at a value of 1\n",
       "Accuracy was used to select the optimal model using the largest value.\n",
       "The final values used for the model were mtry = 2, splitrule = extratrees\n",
       " and min.node.size = 1."
      ]
     },
     "metadata": {},
     "output_type": "display_data"
    }
   ],
   "source": [
    "# Run classification on Boruta important features\n",
    "fs_mod <- caret::train(group ~ ., fs_train,\n",
    "                       method = \"ranger\",\n",
    "                       trControl = trainControl(method = \"cv\",\n",
    "                                                number = 3,\n",
    "                                                returnData = F))\n",
    "fs_mod"
   ]
  },
  {
   "cell_type": "markdown",
   "metadata": {},
   "source": [
    "<h4>The test set produced an accuracy of 0.75! Not an amazing model, but one that is achieving much better than chance (0.5 as its a binary classifier)</h4>"
   ]
  },
  {
   "cell_type": "code",
   "execution_count": 13,
   "metadata": {},
   "outputs": [
    {
     "name": "stdout",
     "output_type": "stream",
     "text": [
      "[1] \"Test accuracy:\"\n"
     ]
    },
    {
     "data": {
      "text/html": [
       "0.75"
      ],
      "text/latex": [
       "0.75"
      ],
      "text/markdown": [
       "0.75"
      ],
      "text/plain": [
       "[1] 0.75"
      ]
     },
     "metadata": {},
     "output_type": "display_data"
    }
   ],
   "source": [
    "print(\"Test accuracy:\")\n",
    "mean(predict(fs_mod, test) == test$group) %>% round(3)"
   ]
  },
  {
   "cell_type": "markdown",
   "metadata": {},
   "source": [
    "<h4>The predicted values of the holdout set were not so good, but still better-than-chance.</h4>"
   ]
  },
  {
   "cell_type": "code",
   "execution_count": 16,
   "metadata": {},
   "outputs": [
    {
     "name": "stdout",
     "output_type": "stream",
     "text": [
      "[1] \"Holdout accuracy:\"\n"
     ]
    },
    {
     "data": {
      "text/html": [
       "0.667"
      ],
      "text/latex": [
       "0.667"
      ],
      "text/markdown": [
       "0.667"
      ],
      "text/plain": [
       "[1] 0.667"
      ]
     },
     "metadata": {},
     "output_type": "display_data"
    }
   ],
   "source": [
    "print(\"Holdout accuracy:\")\n",
    "mean(predict(fs_mod, holdback) == holdback$group) %>% round(3)"
   ]
  },
  {
   "cell_type": "markdown",
   "metadata": {},
   "source": [
    "Here we have seen how signal can be discovered in a randomly generated dataset and yield good classification metrics. The results are obviously false in that the data were random and this result means nothing, but it demonstrates that \"signals\" can be found and may produce convincing results.\n",
    "\n",
    "A bit of doubt cast on the model comes from the fact that the holdout accuracy was markedly worse than the test accuracy and for it to be unstable like that should cause the investigator to at least scratch their head.\n",
    "    \n",
    "Being that it is possible that chance patterns can occur in noise, and those patterns are more likely to occur in line with the number of features that are in our data, it is particularly important to scrutinise models and investigate the variable importance to see if it makes sense. <b>We need to use our subject knowledge.</b>\n",
    "    \n",
    "In spectra we have many variables (wavenumbers) and therefore a good chance there will be some patterns that feature selection and traditional machine learning algorithms can find. In the next notebook we will look at assessing variable importance in the context of spectra."
   ]
  }
 ],
 "metadata": {
  "kernelspec": {
   "display_name": "R",
   "language": "R",
   "name": "ir"
  },
  "language_info": {
   "codemirror_mode": "r",
   "file_extension": ".r",
   "mimetype": "text/x-r-source",
   "name": "R",
   "pygments_lexer": "r",
   "version": "3.6.1"
  }
 },
 "nbformat": 4,
 "nbformat_minor": 4
}
